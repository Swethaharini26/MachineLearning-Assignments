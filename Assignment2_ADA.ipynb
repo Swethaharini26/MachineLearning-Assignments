{
 "cells": [
  {
   "cell_type": "code",
   "execution_count": 1,
   "metadata": {},
   "outputs": [],
   "source": [
    "import pandas as pd\n",
    "import numpy as np\n",
    "import matplotlib.pyplot as plt\n",
    "import seaborn as sns\n",
    "%matplotlib inline\n"
   ]
  },
  {
   "cell_type": "code",
   "execution_count": 2,
   "metadata": {},
   "outputs": [],
   "source": [
    "housing = pd.read_csv(r'C:\\Users\\Swetha\\Desktop\\dataset.csv')"
   ]
  },
  {
   "cell_type": "code",
   "execution_count": 3,
   "metadata": {},
   "outputs": [
    {
     "data": {
      "text/html": [
       "<div>\n",
       "<style scoped>\n",
       "    .dataframe tbody tr th:only-of-type {\n",
       "        vertical-align: middle;\n",
       "    }\n",
       "\n",
       "    .dataframe tbody tr th {\n",
       "        vertical-align: top;\n",
       "    }\n",
       "\n",
       "    .dataframe thead th {\n",
       "        text-align: right;\n",
       "    }\n",
       "</style>\n",
       "<table border=\"1\" class=\"dataframe\">\n",
       "  <thead>\n",
       "    <tr style=\"text-align: right;\">\n",
       "      <th></th>\n",
       "      <th>CRIM</th>\n",
       "      <th>ZN</th>\n",
       "      <th>INDUS</th>\n",
       "      <th>CHAS</th>\n",
       "      <th>NOX</th>\n",
       "      <th>RM</th>\n",
       "      <th>AGE</th>\n",
       "      <th>DIS</th>\n",
       "      <th>RAD</th>\n",
       "      <th>TAX</th>\n",
       "      <th>PTRATIO</th>\n",
       "      <th>B</th>\n",
       "      <th>LSTAT</th>\n",
       "      <th>MEDV</th>\n",
       "    </tr>\n",
       "  </thead>\n",
       "  <tbody>\n",
       "    <tr>\n",
       "      <th>0</th>\n",
       "      <td>0.00632</td>\n",
       "      <td>18.0</td>\n",
       "      <td>2.31</td>\n",
       "      <td>0</td>\n",
       "      <td>0.538</td>\n",
       "      <td>6.575</td>\n",
       "      <td>65.2</td>\n",
       "      <td>4.0900</td>\n",
       "      <td>1</td>\n",
       "      <td>296</td>\n",
       "      <td>15.3</td>\n",
       "      <td>396.90</td>\n",
       "      <td>4.98</td>\n",
       "      <td>24.0</td>\n",
       "    </tr>\n",
       "    <tr>\n",
       "      <th>1</th>\n",
       "      <td>0.02731</td>\n",
       "      <td>0.0</td>\n",
       "      <td>7.07</td>\n",
       "      <td>0</td>\n",
       "      <td>0.469</td>\n",
       "      <td>6.421</td>\n",
       "      <td>78.9</td>\n",
       "      <td>4.9671</td>\n",
       "      <td>2</td>\n",
       "      <td>242</td>\n",
       "      <td>17.8</td>\n",
       "      <td>396.90</td>\n",
       "      <td>9.14</td>\n",
       "      <td>21.6</td>\n",
       "    </tr>\n",
       "    <tr>\n",
       "      <th>2</th>\n",
       "      <td>0.02729</td>\n",
       "      <td>0.0</td>\n",
       "      <td>7.07</td>\n",
       "      <td>0</td>\n",
       "      <td>0.469</td>\n",
       "      <td>7.185</td>\n",
       "      <td>61.1</td>\n",
       "      <td>4.9671</td>\n",
       "      <td>2</td>\n",
       "      <td>242</td>\n",
       "      <td>17.8</td>\n",
       "      <td>392.83</td>\n",
       "      <td>4.03</td>\n",
       "      <td>34.7</td>\n",
       "    </tr>\n",
       "    <tr>\n",
       "      <th>3</th>\n",
       "      <td>0.03237</td>\n",
       "      <td>0.0</td>\n",
       "      <td>2.18</td>\n",
       "      <td>0</td>\n",
       "      <td>0.458</td>\n",
       "      <td>6.998</td>\n",
       "      <td>45.8</td>\n",
       "      <td>6.0622</td>\n",
       "      <td>3</td>\n",
       "      <td>222</td>\n",
       "      <td>18.7</td>\n",
       "      <td>394.63</td>\n",
       "      <td>2.94</td>\n",
       "      <td>33.4</td>\n",
       "    </tr>\n",
       "    <tr>\n",
       "      <th>4</th>\n",
       "      <td>0.06905</td>\n",
       "      <td>0.0</td>\n",
       "      <td>2.18</td>\n",
       "      <td>0</td>\n",
       "      <td>0.458</td>\n",
       "      <td>7.147</td>\n",
       "      <td>54.2</td>\n",
       "      <td>6.0622</td>\n",
       "      <td>3</td>\n",
       "      <td>222</td>\n",
       "      <td>18.7</td>\n",
       "      <td>396.90</td>\n",
       "      <td>5.33</td>\n",
       "      <td>36.2</td>\n",
       "    </tr>\n",
       "  </tbody>\n",
       "</table>\n",
       "</div>"
      ],
      "text/plain": [
       "      CRIM    ZN  INDUS  CHAS    NOX     RM   AGE     DIS  RAD  TAX  PTRATIO  \\\n",
       "0  0.00632  18.0   2.31     0  0.538  6.575  65.2  4.0900    1  296     15.3   \n",
       "1  0.02731   0.0   7.07     0  0.469  6.421  78.9  4.9671    2  242     17.8   \n",
       "2  0.02729   0.0   7.07     0  0.469  7.185  61.1  4.9671    2  242     17.8   \n",
       "3  0.03237   0.0   2.18     0  0.458  6.998  45.8  6.0622    3  222     18.7   \n",
       "4  0.06905   0.0   2.18     0  0.458  7.147  54.2  6.0622    3  222     18.7   \n",
       "\n",
       "        B  LSTAT  MEDV  \n",
       "0  396.90   4.98  24.0  \n",
       "1  396.90   9.14  21.6  \n",
       "2  392.83   4.03  34.7  \n",
       "3  394.63   2.94  33.4  \n",
       "4  396.90   5.33  36.2  "
      ]
     },
     "execution_count": 3,
     "metadata": {},
     "output_type": "execute_result"
    }
   ],
   "source": [
    "housing.head()"
   ]
  },
  {
   "cell_type": "code",
   "execution_count": 4,
   "metadata": {},
   "outputs": [
    {
     "name": "stdout",
     "output_type": "stream",
     "text": [
      "<class 'pandas.core.frame.DataFrame'>\n",
      "RangeIndex: 506 entries, 0 to 505\n",
      "Data columns (total 14 columns):\n",
      "CRIM       506 non-null float64\n",
      "ZN         506 non-null float64\n",
      "INDUS      506 non-null float64\n",
      "CHAS       506 non-null int64\n",
      "NOX        506 non-null float64\n",
      "RM         501 non-null float64\n",
      "AGE        506 non-null float64\n",
      "DIS        506 non-null float64\n",
      "RAD        506 non-null int64\n",
      "TAX        506 non-null int64\n",
      "PTRATIO    506 non-null float64\n",
      "B          506 non-null float64\n",
      "LSTAT      506 non-null float64\n",
      "MEDV       506 non-null float64\n",
      "dtypes: float64(11), int64(3)\n",
      "memory usage: 55.4 KB\n"
     ]
    }
   ],
   "source": [
    "housing.info()"
   ]
  },
  {
   "cell_type": "code",
   "execution_count": 5,
   "metadata": {},
   "outputs": [
    {
     "data": {
      "text/plain": [
       "0    471\n",
       "1     35\n",
       "Name: CHAS, dtype: int64"
      ]
     },
     "execution_count": 5,
     "metadata": {},
     "output_type": "execute_result"
    }
   ],
   "source": [
    "housing['CHAS'].value_counts()"
   ]
  },
  {
   "cell_type": "code",
   "execution_count": 6,
   "metadata": {},
   "outputs": [
    {
     "data": {
      "text/html": [
       "<div>\n",
       "<style scoped>\n",
       "    .dataframe tbody tr th:only-of-type {\n",
       "        vertical-align: middle;\n",
       "    }\n",
       "\n",
       "    .dataframe tbody tr th {\n",
       "        vertical-align: top;\n",
       "    }\n",
       "\n",
       "    .dataframe thead th {\n",
       "        text-align: right;\n",
       "    }\n",
       "</style>\n",
       "<table border=\"1\" class=\"dataframe\">\n",
       "  <thead>\n",
       "    <tr style=\"text-align: right;\">\n",
       "      <th></th>\n",
       "      <th>CRIM</th>\n",
       "      <th>ZN</th>\n",
       "      <th>INDUS</th>\n",
       "      <th>CHAS</th>\n",
       "      <th>NOX</th>\n",
       "      <th>RM</th>\n",
       "      <th>AGE</th>\n",
       "      <th>DIS</th>\n",
       "      <th>RAD</th>\n",
       "      <th>TAX</th>\n",
       "      <th>PTRATIO</th>\n",
       "      <th>B</th>\n",
       "      <th>LSTAT</th>\n",
       "      <th>MEDV</th>\n",
       "    </tr>\n",
       "  </thead>\n",
       "  <tbody>\n",
       "    <tr>\n",
       "      <th>count</th>\n",
       "      <td>506.000000</td>\n",
       "      <td>506.000000</td>\n",
       "      <td>506.000000</td>\n",
       "      <td>506.000000</td>\n",
       "      <td>506.000000</td>\n",
       "      <td>501.000000</td>\n",
       "      <td>506.000000</td>\n",
       "      <td>506.000000</td>\n",
       "      <td>506.000000</td>\n",
       "      <td>506.000000</td>\n",
       "      <td>506.000000</td>\n",
       "      <td>506.000000</td>\n",
       "      <td>506.000000</td>\n",
       "      <td>506.000000</td>\n",
       "    </tr>\n",
       "    <tr>\n",
       "      <th>mean</th>\n",
       "      <td>3.613524</td>\n",
       "      <td>11.363636</td>\n",
       "      <td>11.136779</td>\n",
       "      <td>0.069170</td>\n",
       "      <td>0.554695</td>\n",
       "      <td>6.284341</td>\n",
       "      <td>68.574901</td>\n",
       "      <td>3.795043</td>\n",
       "      <td>9.549407</td>\n",
       "      <td>408.237154</td>\n",
       "      <td>18.455534</td>\n",
       "      <td>356.674032</td>\n",
       "      <td>12.653063</td>\n",
       "      <td>22.532806</td>\n",
       "    </tr>\n",
       "    <tr>\n",
       "      <th>std</th>\n",
       "      <td>8.601545</td>\n",
       "      <td>23.322453</td>\n",
       "      <td>6.860353</td>\n",
       "      <td>0.253994</td>\n",
       "      <td>0.115878</td>\n",
       "      <td>0.705587</td>\n",
       "      <td>28.148861</td>\n",
       "      <td>2.105710</td>\n",
       "      <td>8.707259</td>\n",
       "      <td>168.537116</td>\n",
       "      <td>2.164946</td>\n",
       "      <td>91.294864</td>\n",
       "      <td>7.141062</td>\n",
       "      <td>9.197104</td>\n",
       "    </tr>\n",
       "    <tr>\n",
       "      <th>min</th>\n",
       "      <td>0.006320</td>\n",
       "      <td>0.000000</td>\n",
       "      <td>0.460000</td>\n",
       "      <td>0.000000</td>\n",
       "      <td>0.385000</td>\n",
       "      <td>3.561000</td>\n",
       "      <td>2.900000</td>\n",
       "      <td>1.129600</td>\n",
       "      <td>1.000000</td>\n",
       "      <td>187.000000</td>\n",
       "      <td>12.600000</td>\n",
       "      <td>0.320000</td>\n",
       "      <td>1.730000</td>\n",
       "      <td>5.000000</td>\n",
       "    </tr>\n",
       "    <tr>\n",
       "      <th>25%</th>\n",
       "      <td>0.082045</td>\n",
       "      <td>0.000000</td>\n",
       "      <td>5.190000</td>\n",
       "      <td>0.000000</td>\n",
       "      <td>0.449000</td>\n",
       "      <td>5.884000</td>\n",
       "      <td>45.025000</td>\n",
       "      <td>2.100175</td>\n",
       "      <td>4.000000</td>\n",
       "      <td>279.000000</td>\n",
       "      <td>17.400000</td>\n",
       "      <td>375.377500</td>\n",
       "      <td>6.950000</td>\n",
       "      <td>17.025000</td>\n",
       "    </tr>\n",
       "    <tr>\n",
       "      <th>50%</th>\n",
       "      <td>0.256510</td>\n",
       "      <td>0.000000</td>\n",
       "      <td>9.690000</td>\n",
       "      <td>0.000000</td>\n",
       "      <td>0.538000</td>\n",
       "      <td>6.208000</td>\n",
       "      <td>77.500000</td>\n",
       "      <td>3.207450</td>\n",
       "      <td>5.000000</td>\n",
       "      <td>330.000000</td>\n",
       "      <td>19.050000</td>\n",
       "      <td>391.440000</td>\n",
       "      <td>11.360000</td>\n",
       "      <td>21.200000</td>\n",
       "    </tr>\n",
       "    <tr>\n",
       "      <th>75%</th>\n",
       "      <td>3.677082</td>\n",
       "      <td>12.500000</td>\n",
       "      <td>18.100000</td>\n",
       "      <td>0.000000</td>\n",
       "      <td>0.624000</td>\n",
       "      <td>6.625000</td>\n",
       "      <td>94.075000</td>\n",
       "      <td>5.188425</td>\n",
       "      <td>24.000000</td>\n",
       "      <td>666.000000</td>\n",
       "      <td>20.200000</td>\n",
       "      <td>396.225000</td>\n",
       "      <td>16.955000</td>\n",
       "      <td>25.000000</td>\n",
       "    </tr>\n",
       "    <tr>\n",
       "      <th>max</th>\n",
       "      <td>88.976200</td>\n",
       "      <td>100.000000</td>\n",
       "      <td>27.740000</td>\n",
       "      <td>1.000000</td>\n",
       "      <td>0.871000</td>\n",
       "      <td>8.780000</td>\n",
       "      <td>100.000000</td>\n",
       "      <td>12.126500</td>\n",
       "      <td>24.000000</td>\n",
       "      <td>711.000000</td>\n",
       "      <td>22.000000</td>\n",
       "      <td>396.900000</td>\n",
       "      <td>37.970000</td>\n",
       "      <td>50.000000</td>\n",
       "    </tr>\n",
       "  </tbody>\n",
       "</table>\n",
       "</div>"
      ],
      "text/plain": [
       "             CRIM          ZN       INDUS        CHAS         NOX          RM  \\\n",
       "count  506.000000  506.000000  506.000000  506.000000  506.000000  501.000000   \n",
       "mean     3.613524   11.363636   11.136779    0.069170    0.554695    6.284341   \n",
       "std      8.601545   23.322453    6.860353    0.253994    0.115878    0.705587   \n",
       "min      0.006320    0.000000    0.460000    0.000000    0.385000    3.561000   \n",
       "25%      0.082045    0.000000    5.190000    0.000000    0.449000    5.884000   \n",
       "50%      0.256510    0.000000    9.690000    0.000000    0.538000    6.208000   \n",
       "75%      3.677082   12.500000   18.100000    0.000000    0.624000    6.625000   \n",
       "max     88.976200  100.000000   27.740000    1.000000    0.871000    8.780000   \n",
       "\n",
       "              AGE         DIS         RAD         TAX     PTRATIO           B  \\\n",
       "count  506.000000  506.000000  506.000000  506.000000  506.000000  506.000000   \n",
       "mean    68.574901    3.795043    9.549407  408.237154   18.455534  356.674032   \n",
       "std     28.148861    2.105710    8.707259  168.537116    2.164946   91.294864   \n",
       "min      2.900000    1.129600    1.000000  187.000000   12.600000    0.320000   \n",
       "25%     45.025000    2.100175    4.000000  279.000000   17.400000  375.377500   \n",
       "50%     77.500000    3.207450    5.000000  330.000000   19.050000  391.440000   \n",
       "75%     94.075000    5.188425   24.000000  666.000000   20.200000  396.225000   \n",
       "max    100.000000   12.126500   24.000000  711.000000   22.000000  396.900000   \n",
       "\n",
       "            LSTAT        MEDV  \n",
       "count  506.000000  506.000000  \n",
       "mean    12.653063   22.532806  \n",
       "std      7.141062    9.197104  \n",
       "min      1.730000    5.000000  \n",
       "25%      6.950000   17.025000  \n",
       "50%     11.360000   21.200000  \n",
       "75%     16.955000   25.000000  \n",
       "max     37.970000   50.000000  "
      ]
     },
     "execution_count": 6,
     "metadata": {},
     "output_type": "execute_result"
    }
   ],
   "source": [
    "housing.describe()"
   ]
  },
  {
   "cell_type": "markdown",
   "metadata": {},
   "source": [
    "# Check if data has any missing value"
   ]
  },
  {
   "cell_type": "code",
   "execution_count": 7,
   "metadata": {},
   "outputs": [
    {
     "data": {
      "text/plain": [
       "CRIM       False\n",
       "ZN         False\n",
       "INDUS      False\n",
       "CHAS       False\n",
       "NOX        False\n",
       "RM          True\n",
       "AGE        False\n",
       "DIS        False\n",
       "RAD        False\n",
       "TAX        False\n",
       "PTRATIO    False\n",
       "B          False\n",
       "LSTAT      False\n",
       "MEDV       False\n",
       "dtype: bool"
      ]
     },
     "execution_count": 7,
     "metadata": {},
     "output_type": "execute_result"
    }
   ],
   "source": [
    "housing.shape\n",
    "housing.isnull().any()"
   ]
  },
  {
   "cell_type": "code",
   "execution_count": 8,
   "metadata": {},
   "outputs": [
    {
     "name": "stdout",
     "output_type": "stream",
     "text": [
      "0      6.575\n",
      "1      6.421\n",
      "2      7.185\n",
      "3      6.998\n",
      "4      7.147\n",
      "5      6.430\n",
      "6      6.012\n",
      "7      6.172\n",
      "8      5.631\n",
      "9      6.004\n",
      "10       NaN\n",
      "11     6.009\n",
      "12     5.889\n",
      "13     5.949\n",
      "14     6.096\n",
      "15     5.834\n",
      "16     5.935\n",
      "17     5.990\n",
      "18     5.456\n",
      "19     5.727\n",
      "20     5.570\n",
      "21     5.965\n",
      "22     6.142\n",
      "23     5.813\n",
      "24     5.924\n",
      "25     5.599\n",
      "26     5.813\n",
      "27     6.047\n",
      "28     6.495\n",
      "29     6.674\n",
      "       ...  \n",
      "476    6.484\n",
      "477    5.304\n",
      "478    6.185\n",
      "479    6.229\n",
      "480    6.242\n",
      "481    6.750\n",
      "482    7.061\n",
      "483    5.762\n",
      "484    5.871\n",
      "485    6.312\n",
      "486    6.114\n",
      "487    5.905\n",
      "488    5.454\n",
      "489    5.414\n",
      "490    5.093\n",
      "491    5.983\n",
      "492    5.983\n",
      "493    5.707\n",
      "494    5.926\n",
      "495    5.670\n",
      "496    5.390\n",
      "497    5.794\n",
      "498    6.019\n",
      "499    5.569\n",
      "500    6.027\n",
      "501    6.593\n",
      "502    6.120\n",
      "503    6.976\n",
      "504    6.794\n",
      "505    6.030\n",
      "Name: RM, Length: 506, dtype: float64\n"
     ]
    }
   ],
   "source": [
    "print (housing['RM'])"
   ]
  },
  {
   "cell_type": "code",
   "execution_count": 9,
   "metadata": {},
   "outputs": [
    {
     "data": {
      "text/plain": [
       "6.207999999999999"
      ]
     },
     "execution_count": 9,
     "metadata": {},
     "output_type": "execute_result"
    }
   ],
   "source": [
    "housing['RM'].median()\n"
   ]
  },
  {
   "cell_type": "code",
   "execution_count": 10,
   "metadata": {},
   "outputs": [],
   "source": [
    "median = housing['RM'].median()\n",
    "housing['RM'].fillna(median, inplace=True)"
   ]
  },
  {
   "cell_type": "code",
   "execution_count": 11,
   "metadata": {},
   "outputs": [
    {
     "data": {
      "text/plain": [
       "CRIM       False\n",
       "ZN         False\n",
       "INDUS      False\n",
       "CHAS       False\n",
       "NOX        False\n",
       "RM         False\n",
       "AGE        False\n",
       "DIS        False\n",
       "RAD        False\n",
       "TAX        False\n",
       "PTRATIO    False\n",
       "B          False\n",
       "LSTAT      False\n",
       "MEDV       False\n",
       "dtype: bool"
      ]
     },
     "execution_count": 11,
     "metadata": {},
     "output_type": "execute_result"
    }
   ],
   "source": [
    "housing.isnull().any()"
   ]
  },
  {
   "cell_type": "markdown",
   "metadata": {},
   "source": [
    "# Training and Testing Splitting"
   ]
  },
  {
   "cell_type": "code",
   "execution_count": 12,
   "metadata": {},
   "outputs": [],
   "source": [
    "%matplotlib inline"
   ]
  },
  {
   "cell_type": "code",
   "execution_count": 13,
   "metadata": {},
   "outputs": [],
   "source": [
    "import numpy as np\n",
    "def split_train_test(data, test_ratio):\n",
    "    np.random.seed(42)\n",
    "    shuffled = np.random.permutation(len(data))\n",
    "    print(shuffled)\n",
    "    test_set_size = int(len(data) * test_ratio)\n",
    "    test_indices = shuffled[:test_set_size]\n",
    "    train_indices = shuffled[test_set_size:] \n",
    "    return data.iloc[train_indices], data.iloc[test_indices]"
   ]
  },
  {
   "cell_type": "code",
   "execution_count": 14,
   "metadata": {},
   "outputs": [
    {
     "name": "stdout",
     "output_type": "stream",
     "text": [
      "Rows in train set: 404\n",
      "Rows in test set: 102\n",
      "\n"
     ]
    }
   ],
   "source": [
    "from sklearn.model_selection import train_test_split\n",
    "train_set, test_set  = train_test_split(housing, test_size=0.2, random_state=42)\n",
    "print(f\"Rows in train set: {len(train_set)}\\nRows in test set: {len(test_set)}\\n\")"
   ]
  },
  {
   "cell_type": "code",
   "execution_count": 15,
   "metadata": {},
   "outputs": [],
   "source": [
    "from sklearn.model_selection import StratifiedShuffleSplit\n",
    "split = StratifiedShuffleSplit(n_splits=1, test_size=0.2, random_state=42)\n",
    "for train_index, test_index in split.split(housing, housing['CHAS']):\n",
    "    strat_train_set = housing.loc[train_index]\n",
    "    strat_test_set = housing.loc[test_index]"
   ]
  },
  {
   "cell_type": "code",
   "execution_count": 16,
   "metadata": {},
   "outputs": [
    {
     "data": {
      "text/plain": [
       "0    95\n",
       "1     7\n",
       "Name: CHAS, dtype: int64"
      ]
     },
     "execution_count": 16,
     "metadata": {},
     "output_type": "execute_result"
    }
   ],
   "source": [
    "strat_test_set['CHAS'].value_counts()"
   ]
  },
  {
   "cell_type": "code",
   "execution_count": 17,
   "metadata": {},
   "outputs": [
    {
     "data": {
      "text/plain": [
       "0    376\n",
       "1     28\n",
       "Name: CHAS, dtype: int64"
      ]
     },
     "execution_count": 17,
     "metadata": {},
     "output_type": "execute_result"
    }
   ],
   "source": [
    "strat_train_set['CHAS'].value_counts()"
   ]
  },
  {
   "cell_type": "code",
   "execution_count": 18,
   "metadata": {},
   "outputs": [],
   "source": [
    "housing = strat_train_set.copy()"
   ]
  },
  {
   "cell_type": "markdown",
   "metadata": {},
   "source": [
    "# Normalization"
   ]
  },
  {
   "cell_type": "code",
   "execution_count": 19,
   "metadata": {},
   "outputs": [],
   "source": [
    "def meannormalize(x):\n",
    "    return (x - x.mean())/x.std()\n",
    "\n",
    "housing = housing.apply(meannormalize)"
   ]
  },
  {
   "cell_type": "code",
   "execution_count": 20,
   "metadata": {},
   "outputs": [
    {
     "data": {
      "text/html": [
       "<div>\n",
       "<style scoped>\n",
       "    .dataframe tbody tr th:only-of-type {\n",
       "        vertical-align: middle;\n",
       "    }\n",
       "\n",
       "    .dataframe tbody tr th {\n",
       "        vertical-align: top;\n",
       "    }\n",
       "\n",
       "    .dataframe thead th {\n",
       "        text-align: right;\n",
       "    }\n",
       "</style>\n",
       "<table border=\"1\" class=\"dataframe\">\n",
       "  <thead>\n",
       "    <tr style=\"text-align: right;\">\n",
       "      <th></th>\n",
       "      <th>CRIM</th>\n",
       "      <th>ZN</th>\n",
       "      <th>INDUS</th>\n",
       "      <th>CHAS</th>\n",
       "      <th>NOX</th>\n",
       "      <th>RM</th>\n",
       "      <th>AGE</th>\n",
       "      <th>DIS</th>\n",
       "      <th>RAD</th>\n",
       "      <th>TAX</th>\n",
       "      <th>PTRATIO</th>\n",
       "      <th>B</th>\n",
       "      <th>LSTAT</th>\n",
       "      <th>MEDV</th>\n",
       "    </tr>\n",
       "  </thead>\n",
       "  <tbody>\n",
       "    <tr>\n",
       "      <th>count</th>\n",
       "      <td>4.040000e+02</td>\n",
       "      <td>4.040000e+02</td>\n",
       "      <td>4.040000e+02</td>\n",
       "      <td>4.040000e+02</td>\n",
       "      <td>4.040000e+02</td>\n",
       "      <td>4.040000e+02</td>\n",
       "      <td>4.040000e+02</td>\n",
       "      <td>4.040000e+02</td>\n",
       "      <td>4.040000e+02</td>\n",
       "      <td>4.040000e+02</td>\n",
       "      <td>4.040000e+02</td>\n",
       "      <td>4.040000e+02</td>\n",
       "      <td>4.040000e+02</td>\n",
       "      <td>4.040000e+02</td>\n",
       "    </tr>\n",
       "    <tr>\n",
       "      <th>mean</th>\n",
       "      <td>-2.264415e-16</td>\n",
       "      <td>-8.244230e-18</td>\n",
       "      <td>9.093386e-16</td>\n",
       "      <td>-3.330669e-16</td>\n",
       "      <td>-4.857329e-15</td>\n",
       "      <td>-6.188669e-16</td>\n",
       "      <td>-5.964701e-16</td>\n",
       "      <td>1.624113e-16</td>\n",
       "      <td>1.099231e-18</td>\n",
       "      <td>-1.264115e-16</td>\n",
       "      <td>2.424546e-14</td>\n",
       "      <td>4.265290e-15</td>\n",
       "      <td>2.738802e-16</td>\n",
       "      <td>6.519812e-16</td>\n",
       "    </tr>\n",
       "    <tr>\n",
       "      <th>std</th>\n",
       "      <td>1.000000e+00</td>\n",
       "      <td>1.000000e+00</td>\n",
       "      <td>1.000000e+00</td>\n",
       "      <td>1.000000e+00</td>\n",
       "      <td>1.000000e+00</td>\n",
       "      <td>1.000000e+00</td>\n",
       "      <td>1.000000e+00</td>\n",
       "      <td>1.000000e+00</td>\n",
       "      <td>1.000000e+00</td>\n",
       "      <td>1.000000e+00</td>\n",
       "      <td>1.000000e+00</td>\n",
       "      <td>1.000000e+00</td>\n",
       "      <td>1.000000e+00</td>\n",
       "      <td>1.000000e+00</td>\n",
       "    </tr>\n",
       "    <tr>\n",
       "      <th>min</th>\n",
       "      <td>-4.440454e-01</td>\n",
       "      <td>-4.892245e-01</td>\n",
       "      <td>-1.541907e+00</td>\n",
       "      <td>-2.725505e-01</td>\n",
       "      <td>-1.446534e+00</td>\n",
       "      <td>-3.814881e+00</td>\n",
       "      <td>-2.340550e+00</td>\n",
       "      <td>-1.246564e+00</td>\n",
       "      <td>-1.000445e+00</td>\n",
       "      <td>-1.335970e+00</td>\n",
       "      <td>-2.570523e+00</td>\n",
       "      <td>-3.675191e+00</td>\n",
       "      <td>-1.528746e+00</td>\n",
       "      <td>-1.865574e+00</td>\n",
       "    </tr>\n",
       "    <tr>\n",
       "      <th>25%</th>\n",
       "      <td>-4.340888e-01</td>\n",
       "      <td>-4.892245e-01</td>\n",
       "      <td>-8.948989e-01</td>\n",
       "      <td>-2.725505e-01</td>\n",
       "      <td>-8.989404e-01</td>\n",
       "      <td>-5.612926e-01</td>\n",
       "      <td>-8.560280e-01</td>\n",
       "      <td>-8.147632e-01</td>\n",
       "      <td>-6.568524e-01</td>\n",
       "      <td>-7.608916e-01</td>\n",
       "      <td>-5.040605e-01</td>\n",
       "      <td>2.209311e-01</td>\n",
       "      <td>-8.214929e-01</td>\n",
       "      <td>-6.296293e-01</td>\n",
       "    </tr>\n",
       "    <tr>\n",
       "      <th>50%</th>\n",
       "      <td>-4.094236e-01</td>\n",
       "      <td>-4.892245e-01</td>\n",
       "      <td>-2.100885e-01</td>\n",
       "      <td>-2.725505e-01</td>\n",
       "      <td>-1.716674e-01</td>\n",
       "      <td>-9.910130e-02</td>\n",
       "      <td>3.241584e-01</td>\n",
       "      <td>-2.972809e-01</td>\n",
       "      <td>-5.423214e-01</td>\n",
       "      <td>-4.466735e-01</td>\n",
       "      <td>2.473803e-01</td>\n",
       "      <td>3.909907e-01</td>\n",
       "      <td>-1.688299e-01</td>\n",
       "      <td>-1.448406e-01</td>\n",
       "    </tr>\n",
       "    <tr>\n",
       "      <th>75%</th>\n",
       "      <td>1.594053e-02</td>\n",
       "      <td>7.509339e-02</td>\n",
       "      <td>9.821503e-01</td>\n",
       "      <td>-2.725505e-01</td>\n",
       "      <td>6.240549e-01</td>\n",
       "      <td>4.932896e-01</td>\n",
       "      <td>8.868260e-01</td>\n",
       "      <td>6.451422e-01</td>\n",
       "      <td>1.633768e+00</td>\n",
       "      <td>1.503851e+00</td>\n",
       "      <td>8.109608e-01</td>\n",
       "      <td>4.396535e-01</td>\n",
       "      <td>5.957775e-01</td>\n",
       "      <td>2.653653e-01</td>\n",
       "    </tr>\n",
       "    <tr>\n",
       "      <th>max</th>\n",
       "      <td>8.634150e+00</td>\n",
       "      <td>4.025319e+00</td>\n",
       "      <td>2.383758e+00</td>\n",
       "      <td>3.659963e+00</td>\n",
       "      <td>2.677532e+00</td>\n",
       "      <td>3.511395e+00</td>\n",
       "      <td>1.095615e+00</td>\n",
       "      <td>3.992407e+00</td>\n",
       "      <td>1.633768e+00</td>\n",
       "      <td>1.770640e+00</td>\n",
       "      <td>1.656332e+00</td>\n",
       "      <td>4.528732e-01</td>\n",
       "      <td>3.342905e+00</td>\n",
       "      <td>2.929040e+00</td>\n",
       "    </tr>\n",
       "  </tbody>\n",
       "</table>\n",
       "</div>"
      ],
      "text/plain": [
       "               CRIM            ZN         INDUS          CHAS           NOX  \\\n",
       "count  4.040000e+02  4.040000e+02  4.040000e+02  4.040000e+02  4.040000e+02   \n",
       "mean  -2.264415e-16 -8.244230e-18  9.093386e-16 -3.330669e-16 -4.857329e-15   \n",
       "std    1.000000e+00  1.000000e+00  1.000000e+00  1.000000e+00  1.000000e+00   \n",
       "min   -4.440454e-01 -4.892245e-01 -1.541907e+00 -2.725505e-01 -1.446534e+00   \n",
       "25%   -4.340888e-01 -4.892245e-01 -8.948989e-01 -2.725505e-01 -8.989404e-01   \n",
       "50%   -4.094236e-01 -4.892245e-01 -2.100885e-01 -2.725505e-01 -1.716674e-01   \n",
       "75%    1.594053e-02  7.509339e-02  9.821503e-01 -2.725505e-01  6.240549e-01   \n",
       "max    8.634150e+00  4.025319e+00  2.383758e+00  3.659963e+00  2.677532e+00   \n",
       "\n",
       "                 RM           AGE           DIS           RAD           TAX  \\\n",
       "count  4.040000e+02  4.040000e+02  4.040000e+02  4.040000e+02  4.040000e+02   \n",
       "mean  -6.188669e-16 -5.964701e-16  1.624113e-16  1.099231e-18 -1.264115e-16   \n",
       "std    1.000000e+00  1.000000e+00  1.000000e+00  1.000000e+00  1.000000e+00   \n",
       "min   -3.814881e+00 -2.340550e+00 -1.246564e+00 -1.000445e+00 -1.335970e+00   \n",
       "25%   -5.612926e-01 -8.560280e-01 -8.147632e-01 -6.568524e-01 -7.608916e-01   \n",
       "50%   -9.910130e-02  3.241584e-01 -2.972809e-01 -5.423214e-01 -4.466735e-01   \n",
       "75%    4.932896e-01  8.868260e-01  6.451422e-01  1.633768e+00  1.503851e+00   \n",
       "max    3.511395e+00  1.095615e+00  3.992407e+00  1.633768e+00  1.770640e+00   \n",
       "\n",
       "            PTRATIO             B         LSTAT          MEDV  \n",
       "count  4.040000e+02  4.040000e+02  4.040000e+02  4.040000e+02  \n",
       "mean   2.424546e-14  4.265290e-15  2.738802e-16  6.519812e-16  \n",
       "std    1.000000e+00  1.000000e+00  1.000000e+00  1.000000e+00  \n",
       "min   -2.570523e+00 -3.675191e+00 -1.528746e+00 -1.865574e+00  \n",
       "25%   -5.040605e-01  2.209311e-01 -8.214929e-01 -6.296293e-01  \n",
       "50%    2.473803e-01  3.909907e-01 -1.688299e-01 -1.448406e-01  \n",
       "75%    8.109608e-01  4.396535e-01  5.957775e-01  2.653653e-01  \n",
       "max    1.656332e+00  4.528732e-01  3.342905e+00  2.929040e+00  "
      ]
     },
     "execution_count": 20,
     "metadata": {},
     "output_type": "execute_result"
    }
   ],
   "source": [
    "housing.describe()"
   ]
  },
  {
   "cell_type": "markdown",
   "metadata": {},
   "source": [
    "# Correlation"
   ]
  },
  {
   "cell_type": "code",
   "execution_count": 21,
   "metadata": {},
   "outputs": [],
   "source": [
    "c = housing.corr()"
   ]
  },
  {
   "cell_type": "code",
   "execution_count": 22,
   "metadata": {},
   "outputs": [
    {
     "data": {
      "text/plain": [
       "MEDV       1.000000\n",
       "RM         0.680262\n",
       "B          0.361761\n",
       "ZN         0.339741\n",
       "DIS        0.240451\n",
       "CHAS       0.205066\n",
       "AGE       -0.364596\n",
       "RAD       -0.374693\n",
       "CRIM      -0.393715\n",
       "NOX       -0.422873\n",
       "TAX       -0.456657\n",
       "INDUS     -0.473516\n",
       "PTRATIO   -0.493534\n",
       "LSTAT     -0.740494\n",
       "Name: MEDV, dtype: float64"
      ]
     },
     "execution_count": 22,
     "metadata": {},
     "output_type": "execute_result"
    }
   ],
   "source": [
    "c['MEDV'].sort_values(ascending = False)"
   ]
  },
  {
   "cell_type": "code",
   "execution_count": 23,
   "metadata": {},
   "outputs": [
    {
     "data": {
      "image/png": "[encoded data removed]",
      "text/plain": [
       "<Figure size 1152x720 with 2 Axes>"
      ]
     },
     "metadata": {
      "needs_background": "light"
     },
     "output_type": "display_data"
    }
   ],
   "source": [
    "plt.figure(figsize=(16,10))\n",
    "sns.heatmap(housing.corr(),annot=True);"
   ]
  },
  {
   "cell_type": "markdown",
   "metadata": {},
   "source": [
    "# Visualization"
   ]
  },
  {
   "cell_type": "code",
   "execution_count": 24,
   "metadata": {},
   "outputs": [
    {
     "data": {
      "image/png": "[encoded data removed]",
      "text/plain": [
       "<Figure size 1440x360 with 4 Axes>"
      ]
     },
     "metadata": {
      "needs_background": "light"
     },
     "output_type": "display_data"
    }
   ],
   "source": [
    "plt.figure(figsize=(20, 5))\n",
    "features = ['LSTAT','PTRATIO','RM','CRIM']\n",
    "for i, col in enumerate(features):\n",
    "    plt.subplot(1, len(features) , i+1)\n",
    "    x = housing[col]\n",
    "    y = housing['MEDV']\n",
    "    plt.scatter(x, y, marker='o')\n",
    "    plt.title(col)\n",
    "    plt.xlabel(col)\n",
    "    plt.ylabel('MEDV')"
   ]
  },
  {
   "cell_type": "code",
   "execution_count": 25,
   "metadata": {},
   "outputs": [
    {
     "data": {
      "image/png": "[encoded data removed]",
      "text/plain": [
       "<Figure size 1440x360 with 3 Axes>"
      ]
     },
     "metadata": {
      "needs_background": "light"
     },
     "output_type": "display_data"
    }
   ],
   "source": [
    "plt.figure(figsize=(20, 5))\n",
    "features = ['INDUS','CHAS','NOX']\n",
    "for i, col in enumerate(features):\n",
    "    plt.subplot(1, len(features) , i+1)\n",
    "    x = housing[col]\n",
    "    y = housing['MEDV']\n",
    "    plt.scatter(x, y, marker='o')\n",
    "    plt.title(col)\n",
    "    plt.xlabel(col)\n",
    "    plt.ylabel('MEDV')"
   ]
  },
  {
   "cell_type": "code",
   "execution_count": 26,
   "metadata": {},
   "outputs": [
    {
     "data": {
      "image/png": "[encoded data removed]",
      "text/plain": [
       "<Figure size 1440x360 with 3 Axes>"
      ]
     },
     "metadata": {
      "needs_background": "light"
     },
     "output_type": "display_data"
    }
   ],
   "source": [
    "plt.figure(figsize=(20, 5))\n",
    "features = ['AGE','DIS','RAD']\n",
    "for i, col in enumerate(features):\n",
    "    plt.subplot(1, len(features) , i+1)\n",
    "    x = housing[col]\n",
    "    y = housing['MEDV']\n",
    "    plt.scatter(x, y, marker='o')\n",
    "    plt.title(col)\n",
    "    plt.xlabel(col)\n",
    "    plt.ylabel('MEDV')"
   ]
  },
  {
   "cell_type": "code",
   "execution_count": 27,
   "metadata": {},
   "outputs": [
    {
     "data": {
      "text/plain": [
       "<matplotlib.axes._subplots.AxesSubplot at 0xc3e3828>"
      ]
     },
     "execution_count": 27,
     "metadata": {},
     "output_type": "execute_result"
    },
    {
     "data": {
      "image/png": "[encoded data removed]",
      "text/plain": [
       "<Figure size 720x720 with 1 Axes>"
      ]
     },
     "metadata": {
      "needs_background": "light"
     },
     "output_type": "display_data"
    }
   ],
   "source": [
    "housing.boxplot(['RM'], figsize=(10, 10))"
   ]
  },
  {
   "cell_type": "code",
   "execution_count": 28,
   "metadata": {},
   "outputs": [],
   "source": [
    "housing[\"TAXRM\"] = housing['TAX']/housing['RM']"
   ]
  },
  {
   "cell_type": "code",
   "execution_count": 29,
   "metadata": {},
   "outputs": [
    {
     "data": {
      "text/html": [
       "<div>\n",
       "<style scoped>\n",
       "    .dataframe tbody tr th:only-of-type {\n",
       "        vertical-align: middle;\n",
       "    }\n",
       "\n",
       "    .dataframe tbody tr th {\n",
       "        vertical-align: top;\n",
       "    }\n",
       "\n",
       "    .dataframe thead th {\n",
       "        text-align: right;\n",
       "    }\n",
       "</style>\n",
       "<table border=\"1\" class=\"dataframe\">\n",
       "  <thead>\n",
       "    <tr style=\"text-align: right;\">\n",
       "      <th></th>\n",
       "      <th>CRIM</th>\n",
       "      <th>ZN</th>\n",
       "      <th>INDUS</th>\n",
       "      <th>CHAS</th>\n",
       "      <th>NOX</th>\n",
       "      <th>RM</th>\n",
       "      <th>AGE</th>\n",
       "      <th>DIS</th>\n",
       "      <th>RAD</th>\n",
       "      <th>TAX</th>\n",
       "      <th>PTRATIO</th>\n",
       "      <th>B</th>\n",
       "      <th>LSTAT</th>\n",
       "      <th>MEDV</th>\n",
       "      <th>TAXRM</th>\n",
       "    </tr>\n",
       "  </thead>\n",
       "  <tbody>\n",
       "    <tr>\n",
       "      <th>254</th>\n",
       "      <td>-0.438876</td>\n",
       "      <td>3.122410</td>\n",
       "      <td>-1.120261</td>\n",
       "      <td>-0.27255</td>\n",
       "      <td>-1.420866</td>\n",
       "      <td>-0.239478</td>\n",
       "      <td>-1.310762</td>\n",
       "      <td>2.607880</td>\n",
       "      <td>-1.000445</td>\n",
       "      <td>-0.577104</td>\n",
       "      <td>-0.973711</td>\n",
       "      <td>0.411132</td>\n",
       "      <td>-0.859844</td>\n",
       "      <td>-0.064930</td>\n",
       "      <td>2.409837</td>\n",
       "    </tr>\n",
       "    <tr>\n",
       "      <th>348</th>\n",
       "      <td>-0.442972</td>\n",
       "      <td>3.122410</td>\n",
       "      <td>-1.357255</td>\n",
       "      <td>-0.27255</td>\n",
       "      <td>-1.052951</td>\n",
       "      <td>0.500308</td>\n",
       "      <td>-1.392155</td>\n",
       "      <td>2.190407</td>\n",
       "      <td>-0.656852</td>\n",
       "      <td>-0.784606</td>\n",
       "      <td>-0.691921</td>\n",
       "      <td>0.390835</td>\n",
       "      <td>-0.940002</td>\n",
       "      <td>0.212092</td>\n",
       "      <td>-1.568245</td>\n",
       "    </tr>\n",
       "    <tr>\n",
       "      <th>476</th>\n",
       "      <td>0.156629</td>\n",
       "      <td>-0.489224</td>\n",
       "      <td>0.982150</td>\n",
       "      <td>-0.27255</td>\n",
       "      <td>0.478600</td>\n",
       "      <td>0.288339</td>\n",
       "      <td>0.869132</td>\n",
       "      <td>-0.686456</td>\n",
       "      <td>1.633768</td>\n",
       "      <td>1.503851</td>\n",
       "      <td>0.810961</td>\n",
       "      <td>0.445691</td>\n",
       "      <td>0.813793</td>\n",
       "      <td>-0.618975</td>\n",
       "      <td>5.215560</td>\n",
       "    </tr>\n",
       "    <tr>\n",
       "      <th>321</th>\n",
       "      <td>-0.422406</td>\n",
       "      <td>-0.489224</td>\n",
       "      <td>-0.576484</td>\n",
       "      <td>-0.27255</td>\n",
       "      <td>-0.556694</td>\n",
       "      <td>0.136732</td>\n",
       "      <td>-0.521612</td>\n",
       "      <td>0.378356</td>\n",
       "      <td>-0.542321</td>\n",
       "      <td>-0.743106</td>\n",
       "      <td>0.529171</td>\n",
       "      <td>0.452873</td>\n",
       "      <td>-0.818383</td>\n",
       "      <td>0.062926</td>\n",
       "      <td>-5.434758</td>\n",
       "    </tr>\n",
       "    <tr>\n",
       "      <th>326</th>\n",
       "      <td>-0.407357</td>\n",
       "      <td>-0.489224</td>\n",
       "      <td>-0.576484</td>\n",
       "      <td>-0.27255</td>\n",
       "      <td>-0.556694</td>\n",
       "      <td>0.046891</td>\n",
       "      <td>-1.420465</td>\n",
       "      <td>0.795448</td>\n",
       "      <td>-0.542321</td>\n",
       "      <td>-0.743106</td>\n",
       "      <td>0.529171</td>\n",
       "      <td>0.452873</td>\n",
       "      <td>-0.917889</td>\n",
       "      <td>0.052271</td>\n",
       "      <td>-15.847585</td>\n",
       "    </tr>\n",
       "  </tbody>\n",
       "</table>\n",
       "</div>"
      ],
      "text/plain": [
       "         CRIM        ZN     INDUS     CHAS       NOX        RM       AGE  \\\n",
       "254 -0.438876  3.122410 -1.120261 -0.27255 -1.420866 -0.239478 -1.310762   \n",
       "348 -0.442972  3.122410 -1.357255 -0.27255 -1.052951  0.500308 -1.392155   \n",
       "476  0.156629 -0.489224  0.982150 -0.27255  0.478600  0.288339  0.869132   \n",
       "321 -0.422406 -0.489224 -0.576484 -0.27255 -0.556694  0.136732 -0.521612   \n",
       "326 -0.407357 -0.489224 -0.576484 -0.27255 -0.556694  0.046891 -1.420465   \n",
       "\n",
       "          DIS       RAD       TAX   PTRATIO         B     LSTAT      MEDV  \\\n",
       "254  2.607880 -1.000445 -0.577104 -0.973711  0.411132 -0.859844 -0.064930   \n",
       "348  2.190407 -0.656852 -0.784606 -0.691921  0.390835 -0.940002  0.212092   \n",
       "476 -0.686456  1.633768  1.503851  0.810961  0.445691  0.813793 -0.618975   \n",
       "321  0.378356 -0.542321 -0.743106  0.529171  0.452873 -0.818383  0.062926   \n",
       "326  0.795448 -0.542321 -0.743106  0.529171  0.452873 -0.917889  0.052271   \n",
       "\n",
       "         TAXRM  \n",
       "254   2.409837  \n",
       "348  -1.568245  \n",
       "476   5.215560  \n",
       "321  -5.434758  \n",
       "326 -15.847585  "
      ]
     },
     "execution_count": 29,
     "metadata": {},
     "output_type": "execute_result"
    }
   ],
   "source": [
    "housing.head()"
   ]
  },
  {
   "cell_type": "code",
   "execution_count": 30,
   "metadata": {},
   "outputs": [
    {
     "data": {
      "text/plain": [
       "MEDV       1.000000\n",
       "RM         0.680262\n",
       "B          0.361761\n",
       "ZN         0.339741\n",
       "DIS        0.240451\n",
       "CHAS       0.205066\n",
       "TAXRM     -0.030371\n",
       "AGE       -0.364596\n",
       "RAD       -0.374693\n",
       "CRIM      -0.393715\n",
       "NOX       -0.422873\n",
       "TAX       -0.456657\n",
       "INDUS     -0.473516\n",
       "PTRATIO   -0.493534\n",
       "LSTAT     -0.740494\n",
       "Name: MEDV, dtype: float64"
      ]
     },
     "execution_count": 30,
     "metadata": {},
     "output_type": "execute_result"
    }
   ],
   "source": [
    "corr_matrix = housing.corr()\n",
    "corr_matrix['MEDV'].sort_values(ascending=False)"
   ]
  },
  {
   "cell_type": "code",
   "execution_count": 31,
   "metadata": {},
   "outputs": [
    {
     "data": {
      "text/plain": [
       "<matplotlib.axes._subplots.AxesSubplot at 0xc667978>"
      ]
     },
     "execution_count": 31,
     "metadata": {},
     "output_type": "execute_result"
    },
    {
     "data": {
      "image/png": "[encoded data removed]",
      "text/plain": [
       "<Figure size 432x288 with 1 Axes>"
      ]
     },
     "metadata": {
      "needs_background": "light"
     },
     "output_type": "display_data"
    }
   ],
   "source": [
    "housing.plot(kind=\"scatter\", x=\"RM\", y=\"MEDV\", alpha=0.8)"
   ]
  },
  {
   "cell_type": "markdown",
   "metadata": {},
   "source": [
    "# Identifying and Removing Outliers"
   ]
  },
  {
   "cell_type": "code",
   "execution_count": 32,
   "metadata": {},
   "outputs": [
    {
     "name": "stdout",
     "output_type": "stream",
     "text": [
      "[[4.39420064e-01 3.12628155e+00 1.12165014e+00 ... 8.60910339e-01\n",
      "  6.50108699e-02 2.63228328e-01]\n",
      " [4.43521752e-01 3.12628155e+00 1.35893781e+00 ... 9.41167392e-01\n",
      "  2.12354759e-01 1.16755978e-01]\n",
      " [1.56822920e-01 4.89831100e-01 9.83368061e-01 ... 8.14801580e-01\n",
      "  6.19742127e-01 5.31229557e-01]\n",
      " ...\n",
      " [4.35256567e-01 4.89831100e-01 1.23083158e+00 ... 1.27603303e+00\n",
      "  2.27126115e+00 2.64121444e-03]\n",
      " [1.42107281e-01 4.89831100e-01 9.83368061e-01 ... 7.38695754e-01\n",
      "  8.97107755e-01 4.48334247e-01]\n",
      " [4.39740238e-01 4.89831100e-01 3.70496233e-01 ... 9.94068134e-02\n",
      "  8.43398531e-02 1.73857744e-01]]\n"
     ]
    }
   ],
   "source": [
    "from scipy import stats\n",
    "z = np.abs(stats.zscore(housing))\n",
    "print(z)"
   ]
  },
  {
   "cell_type": "code",
   "execution_count": 33,
   "metadata": {},
   "outputs": [
    {
     "name": "stdout",
     "output_type": "stream",
     "text": [
      "(array([  0,   1,   5,   8,   9,  10,  13,  15,  23,  26,  29,  45,  49,\n",
      "        49,  58,  61,  78,  81,  89,  91,  91,  92,  96,  96, 103, 111,\n",
      "       114, 121, 122, 133, 139, 140, 155, 157, 158, 159, 167, 178, 185,\n",
      "       186, 186, 187, 201, 209, 209, 213, 215, 218, 220, 226, 232, 233,\n",
      "       240, 247, 256, 257, 262, 264, 270, 275, 276, 277, 280, 285, 299,\n",
      "       299, 304, 312, 313, 315, 319, 323, 325, 326, 332, 335, 341, 341,\n",
      "       350, 352, 355, 373, 392, 392, 396, 397, 398, 399, 400, 402, 403],\n",
      "      dtype=int64), array([ 1,  1, 11, 11,  1,  0,  1,  3,  5, 11,  3, 12,  0, 12,  1, 14, 14,\n",
      "       11, 11,  1,  7,  1,  3,  5,  1, 11, 11,  0, 11,  5,  3, 14, 11,  1,\n",
      "        1,  3,  3, 11,  3,  0, 11,  3,  3,  0, 11,  3,  3, 11, 14, 11,  1,\n",
      "        3, 14,  3,  1,  5,  3,  3,  1,  3, 11, 11,  3,  1,  1,  3,  3,  3,\n",
      "        3,  7, 14,  3,  1, 14,  7, 11,  1,  7,  3,  1,  3,  3,  0, 11,  3,\n",
      "        0,  5,  3, 11, 11,  3], dtype=int64))\n"
     ]
    }
   ],
   "source": [
    "threshold = 3\n",
    "print(np.where(z > 3))\n"
   ]
  },
  {
   "cell_type": "code",
   "execution_count": 34,
   "metadata": {},
   "outputs": [
    {
     "name": "stdout",
     "output_type": "stream",
     "text": [
      "3.1262815455427866\n"
     ]
    }
   ],
   "source": [
    "print(z[0][1])\n"
   ]
  },
  {
   "cell_type": "code",
   "execution_count": 35,
   "metadata": {},
   "outputs": [],
   "source": [
    "housing = housing[(z < 3).all(axis=1)]"
   ]
  },
  {
   "cell_type": "code",
   "execution_count": 36,
   "metadata": {},
   "outputs": [
    {
     "name": "stdout",
     "output_type": "stream",
     "text": [
      "         CRIM        ZN     INDUS     CHAS       NOX        RM       AGE  \\\n",
      "476  0.156629 -0.489224  0.982150 -0.27255  0.478600  0.288339  0.869132   \n",
      "321 -0.422406 -0.489224 -0.576484 -0.27255 -0.556694  0.136732 -0.521612   \n",
      "326 -0.407357 -0.489224 -0.576484 -0.27255 -0.556694  0.046891 -1.420465   \n",
      "250 -0.427503  0.503975 -0.797484 -0.27255 -1.087176  0.292551 -1.983133   \n",
      "100 -0.426471 -0.489224 -0.404918 -0.27255 -0.325678  0.629455  0.384318   \n",
      "115 -0.423671 -0.489224 -0.194095 -0.27255 -0.094662 -0.492157  0.678037   \n",
      "490 -0.419211 -0.489224  2.383758 -0.27255  0.435820 -1.664305  1.024839   \n",
      "494 -0.410308 -0.489224 -0.240621 -0.27255  0.230472 -0.494964 -0.935651   \n",
      "113 -0.417401 -0.489224 -0.194095 -0.27255 -0.094662 -0.261939  0.932830   \n",
      "468  1.478247 -0.489224  0.982150 -0.27255  0.187691 -0.494964  0.069366   \n",
      "400  2.647521 -0.489224  0.982150 -0.27255  1.154536 -0.409334  1.095615   \n",
      "247 -0.420556  0.503975 -0.797484 -0.27255 -1.087176 -0.073833  0.359546   \n",
      "151 -0.260081 -0.489224  1.197335 -0.27255  2.677532 -1.227732  1.095615   \n",
      "408  0.469304 -0.489224  0.982150 -0.27255  0.333146 -0.928729  1.021300   \n",
      "68  -0.428091  0.075093 -0.766951 -0.27255 -1.275411 -0.961016 -1.140901   \n",
      "81  -0.439317  0.639411 -0.942879 -0.27255 -1.129956  0.477848  0.048133   \n",
      "93  -0.441276  0.774848  0.537242 -0.27255 -0.804823 -0.094890 -1.420465   \n",
      "116 -0.428580 -0.489224 -0.194095 -0.27255 -0.094662 -0.144022  0.122447   \n",
      "27  -0.326820 -0.489224 -0.465984 -0.27255 -0.171667 -0.325108  0.699270   \n",
      "140 -0.408909 -0.489224  1.533197 -0.27255  0.564162 -0.146829  0.869132   \n",
      "47  -0.416519 -0.489224 -0.644820 -0.27255 -0.941721 -0.348972  0.582490   \n",
      "382  0.689461 -0.489224  0.982150 -0.27255  1.214429 -1.042435  1.095615   \n",
      "377  0.768043 -0.489224  0.982150 -0.27255  0.966301  0.723508  1.053149   \n",
      "366  0.011623 -0.489224  0.982150 -0.27255  1.368440 -1.846795  0.791279   \n",
      "185 -0.437360 -0.489224 -1.291827 -0.27255 -0.599475 -0.176309 -0.008488   \n",
      "73  -0.420702 -0.489224 -0.077779 -0.27255 -1.241186 -0.047162 -2.223770   \n",
      "267 -0.373420  0.413684 -1.072281 -0.27255  0.144910  2.833374 -0.072186   \n",
      "231 -0.387666 -0.489224 -0.748050 -0.27255 -0.462577  1.591038  0.278154   \n",
      "118 -0.428704 -0.489224 -0.194095 -0.27255 -0.094662 -0.570768  0.143680   \n",
      "96  -0.430622 -0.489224 -1.229307 -0.27255 -0.967390 -0.099101  0.019822   \n",
      "..        ...       ...       ...      ...       ...       ...       ...   \n",
      "186 -0.437909 -0.489224 -1.291827 -0.27255 -0.599475  2.179217 -0.546384   \n",
      "174 -0.434397 -0.489224 -1.060649 -0.27255 -0.411240 -0.589017 -0.012027   \n",
      "19  -0.355214 -0.489224 -0.465984 -0.27255 -0.171667 -0.774315  0.016284   \n",
      "84  -0.438580 -0.489224 -0.996675 -0.27255 -0.933165  0.154981 -0.744556   \n",
      "28  -0.349388 -0.489224 -0.465984 -0.27255 -0.171667  0.303781  0.897442   \n",
      "395  0.631398 -0.489224  0.982150 -0.27255  1.154536  0.270090  1.053149   \n",
      "183 -0.432469 -0.489224 -1.291827 -0.27255 -0.599475  0.399237  0.939908   \n",
      "350 -0.437157  1.316593 -1.467755 -0.27255 -1.104288  0.296762 -0.871953   \n",
      "433  0.244248 -0.489224  0.982150 -0.27255  1.325659  0.220958  0.667421   \n",
      "430  0.603665 -0.489224  0.982150 -0.27255  0.221916  0.097427  0.603723   \n",
      "479  1.324902 -0.489224  0.982150 -0.27255  0.478600 -0.069622  0.670960   \n",
      "438  1.243957 -0.489224  0.982150 -0.27255  1.556676 -0.482331  0.667421   \n",
      "38  -0.423213 -0.489224 -0.782945 -0.27255 -0.505357 -0.438814 -1.374461   \n",
      "18  -0.345718 -0.489224 -0.465984 -0.27255 -0.171667 -1.154736 -1.147978   \n",
      "97  -0.429907 -0.489224 -1.229307 -0.27255 -0.967390  2.513315  0.246305   \n",
      "266 -0.347818  0.413684 -1.072281 -0.27255  0.760953  1.032337  0.550641   \n",
      "133 -0.404104 -0.489224  1.533197 -0.27255  0.564162 -0.640957  0.932830   \n",
      "449  0.484382 -0.489224  0.982150 -0.27255  1.325659  0.194287  1.035455   \n",
      "477  1.410056 -0.489224  0.982150 -0.27255  0.478600 -1.368109  1.000067   \n",
      "171 -0.159137 -0.489224  1.197335 -0.27255  0.401595 -0.559538  1.000067   \n",
      "180 -0.436692 -0.489224 -1.291827 -0.27255 -0.599475  2.086569  0.504637   \n",
      "158 -0.279030 -0.489224  1.197335 -0.27255  0.401595 -0.298437  1.095615   \n",
      "279 -0.418851  0.413684 -1.165334 -0.27255 -0.985358  0.748776 -1.303685   \n",
      "109 -0.412276 -0.489224 -0.404918 -0.27255 -0.325678 -0.069622  0.784201   \n",
      "82  -0.440308  0.639411 -0.942879 -0.27255 -1.129956  0.032853 -1.303685   \n",
      "386  2.566984 -0.489224  0.982150 -0.27255  1.214429 -2.283367  1.095615   \n",
      "126 -0.397001 -0.489224  2.079882 -0.27255  0.196247 -0.934344  0.939908   \n",
      "446  0.331538 -0.489224  0.982150 -0.27255  1.556676  0.087600  0.968218   \n",
      "101 -0.430711 -0.489224 -0.404918 -0.27255 -0.325678  0.705259  0.079982   \n",
      "98  -0.434718 -0.489224 -1.229307 -0.27255 -0.967390  2.163776 -1.137362   \n",
      "\n",
      "          DIS       RAD       TAX   PTRATIO         B     LSTAT      MEDV  \\\n",
      "476 -0.686456  1.633768  1.503851  0.810961  0.445691  0.813793 -0.618975   \n",
      "321  0.378356 -0.542321 -0.743106  0.529171  0.452873 -0.818383  0.062926   \n",
      "326  0.795448 -0.542321 -0.743106  0.529171  0.452873 -0.917889  0.052271   \n",
      "250  1.739109 -0.313259 -0.488174  0.294345  0.446419 -0.952440  0.201437   \n",
      "100 -0.461355 -0.542321 -0.168027  1.139716  0.430598 -0.465966  0.531733   \n",
      "115 -0.611279 -0.427790  0.116548 -0.316200 -0.088299  0.410240 -0.448499   \n",
      "490 -0.916416 -0.656852  1.770640  0.763996 -0.363934  2.334024 -1.535279   \n",
      "494 -0.650058 -0.427790 -0.126527  0.341310  0.452873  0.110340  0.212092   \n",
      "113 -0.570832 -0.427790  0.116548 -0.316200  0.452873  0.594050 -0.405881   \n",
      "468 -0.399136  1.633768  1.503851  0.810961  0.159751  0.737781 -0.363262   \n",
      "400 -1.027799  1.633768  1.503851  0.810961  0.452873  1.931854 -1.801646   \n",
      "247  2.052965 -0.313259 -0.488174  0.294345  0.236779 -0.365078 -0.214096   \n",
      "151 -1.026465 -0.542321 -0.055383 -1.772117 -0.122753  0.067497 -0.309988   \n",
      "408 -1.091685  1.633768  1.503851  0.810961 -0.403384  1.880719 -0.565701   \n",
      "68   1.310965 -0.656852 -0.399244  0.200415  0.452873  0.041239 -0.544392   \n",
      "81   0.788206 -0.656852 -0.778678  0.247380  0.439654 -0.770012  0.148164   \n",
      "93  -0.038260 -0.656852 -0.843893 -0.128340  0.446940 -0.909597  0.265365   \n",
      "116 -0.484079 -0.427790  0.116548 -0.316200  0.415400 -0.103875 -0.139513   \n",
      "27   0.336909 -0.656852 -0.624533  1.186681 -0.489364  0.620309 -0.821414   \n",
      "140 -1.016794 -0.656852  0.146191  1.280611  0.361064  1.571144 -0.906651   \n",
      "47   0.925744 -0.771383 -1.063252 -0.269235  0.409571  0.830377 -0.629629   \n",
      "382 -1.031801  1.633768  1.503851  0.810961  0.452873  1.493751 -1.194328   \n",
      "377 -1.137753  1.633768  1.503851  0.810961  0.452873  1.167592 -0.981234   \n",
      "366 -0.949907  1.633768  1.503851  0.810961 -0.388916  0.167003 -0.064930   \n",
      "185 -0.222247 -0.771383 -1.300398 -0.316200  0.350967  0.049531  0.755481   \n",
      "73   0.734182 -0.656852 -0.636390  0.341310  0.247500 -0.725787  0.094890   \n",
      "267 -0.631050 -0.542321 -0.879465 -2.570523  0.324216 -0.739608  2.929040   \n",
      "231 -0.035592 -0.198728 -0.624533 -0.504061  0.236779 -1.042272  0.979230   \n",
      "118 -0.604419 -0.427790  0.116548 -0.316200 -0.153669  0.356341 -0.224751   \n",
      "96  -0.119582 -0.885914 -0.808321 -0.222270  0.400099 -0.200617 -0.118204   \n",
      "..        ...       ...       ...       ...       ...       ...       ...   \n",
      "186 -0.260598 -0.771383 -1.300398 -0.316200  0.408426 -1.152834  2.929040   \n",
      "174 -0.497514 -0.542321 -0.689748 -0.879781  0.414672 -0.435561  0.009653   \n",
      "19   0.023959 -0.656852 -0.624533  1.186681  0.390939 -0.208909 -0.459154   \n",
      "84   0.492216 -0.771383 -0.980251  0.012555  0.452873 -0.438325  0.148164   \n",
      "28   0.337528 -0.656852 -0.624533  1.186681  0.359607  0.001160 -0.437845   \n",
      "395 -0.962580  1.633768  1.503851  0.810961  0.401660  0.598196 -1.002544   \n",
      "183 -0.428387 -0.771383 -1.300398 -0.316200  0.452873 -0.982845  1.064468   \n",
      "350  2.403884 -1.000445 -0.458531  0.576136  0.452873 -0.941384  0.041617   \n",
      "433 -0.681453  1.633768  1.503851  0.810961 -2.635629  0.473813 -0.874687   \n",
      "430 -0.806795  1.633768  1.503851  0.810961 -2.809878  0.670062 -0.853378   \n",
      "479 -0.855150  1.633768  1.503851  0.810961  0.311517  0.044003 -0.118204   \n",
      "438 -0.917369  1.633768  1.503851  0.810961 -2.960811  2.933825 -1.503315   \n",
      "38   0.048160 -0.542321 -0.790535  0.341310  0.416753 -0.367842  0.233401   \n",
      "18   0.023959 -0.656852 -0.624533  1.186681 -0.670379 -0.152246 -0.246060   \n",
      "97  -0.119582 -0.885914 -0.808321 -0.222270  0.452873 -1.186003  1.725059   \n",
      "266 -0.768588 -0.542321 -0.879465 -2.570523  0.319324  0.276183  0.872683   \n",
      "133 -0.608039 -0.656852  0.146191  1.280611  0.367414  0.309352 -0.437845   \n",
      "449 -0.743767  1.633768  1.503851  0.810961 -0.511952  0.900860 -1.013198   \n",
      "477 -0.783928  1.633768  1.503851  0.810961 -0.040729  1.674796 -1.119745   \n",
      "171 -0.646723 -0.542321 -0.055383 -1.772117 -0.054782 -0.105257 -0.363262   \n",
      "180 -0.478886 -0.771383 -1.300398 -0.316200  0.438925 -0.723023  1.842261   \n",
      "158 -0.947525 -0.542321 -0.055383 -1.772117  0.005175 -0.879193  0.190782   \n",
      "279  0.168881 -0.542321 -1.164039 -1.678187  0.452873 -1.097553  1.341490   \n",
      "109 -0.572214 -0.542321 -0.168027  1.139716  0.393853  0.381218 -0.331298   \n",
      "82   0.788206 -0.656852 -0.778678  0.247380  0.452873 -0.839114  0.244056   \n",
      "386 -1.085730  1.633768  1.503851  0.810961  0.452873  2.140540 -1.279566   \n",
      "126 -0.947573 -0.885914 -1.330041  0.294345  0.061385  1.999573 -0.725522   \n",
      "446 -0.797601  1.633768  1.503851  0.810961 -0.368305  0.690792 -0.810759   \n",
      "101 -0.424052 -0.542321 -0.168027  1.139716  0.439133 -0.707821  0.425186   \n",
      "98  -0.119582 -0.885914 -0.808321 -0.222270  0.417794 -1.274453  2.268448   \n",
      "\n",
      "         TAXRM  \n",
      "476   5.215560  \n",
      "321  -5.434758  \n",
      "326 -15.847585  \n",
      "250  -1.668683  \n",
      "100  -0.266941  \n",
      "115  -0.236810  \n",
      "490  -1.063891  \n",
      "494   0.255628  \n",
      "113  -0.444943  \n",
      "468  -3.038300  \n",
      "400  -3.673892  \n",
      "247   6.611828  \n",
      "151   0.045110  \n",
      "408  -1.619256  \n",
      "68    0.415440  \n",
      "81   -1.629550  \n",
      "93    8.893379  \n",
      "116  -0.809236  \n",
      "27    1.920999  \n",
      "140  -0.995651  \n",
      "47    3.046810  \n",
      "382  -1.442633  \n",
      "377   2.078554  \n",
      "366  -0.814303  \n",
      "185   7.375692  \n",
      "73   13.493759  \n",
      "267  -0.310395  \n",
      "231  -0.392532  \n",
      "118  -0.204195  \n",
      "96    8.156510  \n",
      "..         ...  \n",
      "186  -0.596727  \n",
      "174   1.171015  \n",
      "19    0.806562  \n",
      "84   -6.324975  \n",
      "28   -2.055867  \n",
      "395   5.567956  \n",
      "183  -3.257208  \n",
      "350  -1.545114  \n",
      "433   6.806039  \n",
      "430  15.435744  \n",
      "479 -21.600181  \n",
      "438  -3.117884  \n",
      "38    1.801527  \n",
      "18    0.540844  \n",
      "97   -0.321615  \n",
      "266  -0.851916  \n",
      "133  -0.228083  \n",
      "449   7.740371  \n",
      "477  -1.099218  \n",
      "171   0.098980  \n",
      "180  -0.623223  \n",
      "158   0.185577  \n",
      "279  -1.554590  \n",
      "109   2.413416  \n",
      "82  -23.701811  \n",
      "386  -0.658611  \n",
      "126   1.423502  \n",
      "446  17.167222  \n",
      "101  -0.238249  \n",
      "98   -0.373570  \n",
      "\n",
      "[321 rows x 15 columns]\n"
     ]
    }
   ],
   "source": [
    "print(housing)"
   ]
  },
  {
   "cell_type": "code",
   "execution_count": 37,
   "metadata": {},
   "outputs": [
    {
     "data": {
      "text/plain": [
       "<matplotlib.axes._subplots.AxesSubplot at 0xc6510b8>"
      ]
     },
     "execution_count": 37,
     "metadata": {},
     "output_type": "execute_result"
    },
    {
     "data": {
      "image/png": "[encoded data removed]",
      "text/plain": [
       "<Figure size 432x288 with 1 Axes>"
      ]
     },
     "metadata": {
      "needs_background": "light"
     },
     "output_type": "display_data"
    }
   ],
   "source": [
    "housing.plot(kind=\"scatter\", x=\"RM\", y=\"MEDV\", alpha=0.8)"
   ]
  },
  {
   "cell_type": "code",
   "execution_count": 38,
   "metadata": {},
   "outputs": [],
   "source": [
    "housing = strat_train_set.drop(\"MEDV\", axis=1)\n",
    "housing_labels = strat_train_set[\"MEDV\"].copy()"
   ]
  },
  {
   "cell_type": "code",
   "execution_count": 39,
   "metadata": {},
   "outputs": [
    {
     "data": {
      "text/plain": [
       "SimpleImputer(add_indicator=False, copy=True, fill_value=None,\n",
       "              missing_values=nan, strategy='median', verbose=0)"
      ]
     },
     "execution_count": 39,
     "metadata": {},
     "output_type": "execute_result"
    }
   ],
   "source": [
    "from sklearn.impute import SimpleImputer\n",
    "imputer = SimpleImputer(strategy=\"median\")\n",
    "imputer.fit(housing)"
   ]
  },
  {
   "cell_type": "code",
   "execution_count": 40,
   "metadata": {},
   "outputs": [
    {
     "data": {
      "text/plain": [
       "array([2.86735e-01, 0.00000e+00, 9.90000e+00, 0.00000e+00, 5.38000e-01,\n",
       "       6.20800e+00, 7.82000e+01, 3.12220e+00, 5.00000e+00, 3.37000e+02,\n",
       "       1.90000e+01, 3.90955e+02, 1.15700e+01])"
      ]
     },
     "execution_count": 40,
     "metadata": {},
     "output_type": "execute_result"
    }
   ],
   "source": [
    "imputer.statistics_"
   ]
  },
  {
   "cell_type": "code",
   "execution_count": 41,
   "metadata": {},
   "outputs": [],
   "source": [
    "X = imputer.transform(housing)"
   ]
  },
  {
   "cell_type": "code",
   "execution_count": 42,
   "metadata": {},
   "outputs": [],
   "source": [
    "housing_tr = pd.DataFrame(X, columns=housing.columns)"
   ]
  },
  {
   "cell_type": "code",
   "execution_count": 43,
   "metadata": {},
   "outputs": [
    {
     "data": {
      "text/html": [
       "<div>\n",
       "<style scoped>\n",
       "    .dataframe tbody tr th:only-of-type {\n",
       "        vertical-align: middle;\n",
       "    }\n",
       "\n",
       "    .dataframe tbody tr th {\n",
       "        vertical-align: top;\n",
       "    }\n",
       "\n",
       "    .dataframe thead th {\n",
       "        text-align: right;\n",
       "    }\n",
       "</style>\n",
       "<table border=\"1\" class=\"dataframe\">\n",
       "  <thead>\n",
       "    <tr style=\"text-align: right;\">\n",
       "      <th></th>\n",
       "      <th>CRIM</th>\n",
       "      <th>ZN</th>\n",
       "      <th>INDUS</th>\n",
       "      <th>CHAS</th>\n",
       "      <th>NOX</th>\n",
       "      <th>RM</th>\n",
       "      <th>AGE</th>\n",
       "      <th>DIS</th>\n",
       "      <th>RAD</th>\n",
       "      <th>TAX</th>\n",
       "      <th>PTRATIO</th>\n",
       "      <th>B</th>\n",
       "      <th>LSTAT</th>\n",
       "    </tr>\n",
       "  </thead>\n",
       "  <tbody>\n",
       "    <tr>\n",
       "      <th>count</th>\n",
       "      <td>404.000000</td>\n",
       "      <td>404.000000</td>\n",
       "      <td>404.000000</td>\n",
       "      <td>404.000000</td>\n",
       "      <td>404.000000</td>\n",
       "      <td>404.000000</td>\n",
       "      <td>404.000000</td>\n",
       "      <td>404.000000</td>\n",
       "      <td>404.000000</td>\n",
       "      <td>404.000000</td>\n",
       "      <td>404.000000</td>\n",
       "      <td>404.000000</td>\n",
       "      <td>404.000000</td>\n",
       "    </tr>\n",
       "    <tr>\n",
       "      <th>mean</th>\n",
       "      <td>3.602814</td>\n",
       "      <td>10.836634</td>\n",
       "      <td>11.344950</td>\n",
       "      <td>0.069307</td>\n",
       "      <td>0.558064</td>\n",
       "      <td>6.278597</td>\n",
       "      <td>69.039851</td>\n",
       "      <td>3.746210</td>\n",
       "      <td>9.735149</td>\n",
       "      <td>412.341584</td>\n",
       "      <td>18.473267</td>\n",
       "      <td>353.392822</td>\n",
       "      <td>12.791609</td>\n",
       "    </tr>\n",
       "    <tr>\n",
       "      <th>std</th>\n",
       "      <td>8.099383</td>\n",
       "      <td>22.150636</td>\n",
       "      <td>6.877817</td>\n",
       "      <td>0.254290</td>\n",
       "      <td>0.116875</td>\n",
       "      <td>0.712367</td>\n",
       "      <td>28.258248</td>\n",
       "      <td>2.099057</td>\n",
       "      <td>8.731259</td>\n",
       "      <td>168.672623</td>\n",
       "      <td>2.129243</td>\n",
       "      <td>96.069235</td>\n",
       "      <td>7.235740</td>\n",
       "    </tr>\n",
       "    <tr>\n",
       "      <th>min</th>\n",
       "      <td>0.006320</td>\n",
       "      <td>0.000000</td>\n",
       "      <td>0.740000</td>\n",
       "      <td>0.000000</td>\n",
       "      <td>0.389000</td>\n",
       "      <td>3.561000</td>\n",
       "      <td>2.900000</td>\n",
       "      <td>1.129600</td>\n",
       "      <td>1.000000</td>\n",
       "      <td>187.000000</td>\n",
       "      <td>13.000000</td>\n",
       "      <td>0.320000</td>\n",
       "      <td>1.730000</td>\n",
       "    </tr>\n",
       "    <tr>\n",
       "      <th>25%</th>\n",
       "      <td>0.086963</td>\n",
       "      <td>0.000000</td>\n",
       "      <td>5.190000</td>\n",
       "      <td>0.000000</td>\n",
       "      <td>0.453000</td>\n",
       "      <td>5.878750</td>\n",
       "      <td>44.850000</td>\n",
       "      <td>2.035975</td>\n",
       "      <td>4.000000</td>\n",
       "      <td>284.000000</td>\n",
       "      <td>17.400000</td>\n",
       "      <td>374.617500</td>\n",
       "      <td>6.847500</td>\n",
       "    </tr>\n",
       "    <tr>\n",
       "      <th>50%</th>\n",
       "      <td>0.286735</td>\n",
       "      <td>0.000000</td>\n",
       "      <td>9.900000</td>\n",
       "      <td>0.000000</td>\n",
       "      <td>0.538000</td>\n",
       "      <td>6.208000</td>\n",
       "      <td>78.200000</td>\n",
       "      <td>3.122200</td>\n",
       "      <td>5.000000</td>\n",
       "      <td>337.000000</td>\n",
       "      <td>19.000000</td>\n",
       "      <td>390.955000</td>\n",
       "      <td>11.570000</td>\n",
       "    </tr>\n",
       "    <tr>\n",
       "      <th>75%</th>\n",
       "      <td>3.731923</td>\n",
       "      <td>12.500000</td>\n",
       "      <td>18.100000</td>\n",
       "      <td>0.000000</td>\n",
       "      <td>0.631000</td>\n",
       "      <td>6.630000</td>\n",
       "      <td>94.100000</td>\n",
       "      <td>5.100400</td>\n",
       "      <td>24.000000</td>\n",
       "      <td>666.000000</td>\n",
       "      <td>20.200000</td>\n",
       "      <td>395.630000</td>\n",
       "      <td>17.102500</td>\n",
       "    </tr>\n",
       "    <tr>\n",
       "      <th>max</th>\n",
       "      <td>73.534100</td>\n",
       "      <td>100.000000</td>\n",
       "      <td>27.740000</td>\n",
       "      <td>1.000000</td>\n",
       "      <td>0.871000</td>\n",
       "      <td>8.780000</td>\n",
       "      <td>100.000000</td>\n",
       "      <td>12.126500</td>\n",
       "      <td>24.000000</td>\n",
       "      <td>711.000000</td>\n",
       "      <td>22.000000</td>\n",
       "      <td>396.900000</td>\n",
       "      <td>36.980000</td>\n",
       "    </tr>\n",
       "  </tbody>\n",
       "</table>\n",
       "</div>"
      ],
      "text/plain": [
       "             CRIM          ZN       INDUS        CHAS         NOX          RM  \\\n",
       "count  404.000000  404.000000  404.000000  404.000000  404.000000  404.000000   \n",
       "mean     3.602814   10.836634   11.344950    0.069307    0.558064    6.278597   \n",
       "std      8.099383   22.150636    6.877817    0.254290    0.116875    0.712367   \n",
       "min      0.006320    0.000000    0.740000    0.000000    0.389000    3.561000   \n",
       "25%      0.086963    0.000000    5.190000    0.000000    0.453000    5.878750   \n",
       "50%      0.286735    0.000000    9.900000    0.000000    0.538000    6.208000   \n",
       "75%      3.731923   12.500000   18.100000    0.000000    0.631000    6.630000   \n",
       "max     73.534100  100.000000   27.740000    1.000000    0.871000    8.780000   \n",
       "\n",
       "              AGE         DIS         RAD         TAX     PTRATIO           B  \\\n",
       "count  404.000000  404.000000  404.000000  404.000000  404.000000  404.000000   \n",
       "mean    69.039851    3.746210    9.735149  412.341584   18.473267  353.392822   \n",
       "std     28.258248    2.099057    8.731259  168.672623    2.129243   96.069235   \n",
       "min      2.900000    1.129600    1.000000  187.000000   13.000000    0.320000   \n",
       "25%     44.850000    2.035975    4.000000  284.000000   17.400000  374.617500   \n",
       "50%     78.200000    3.122200    5.000000  337.000000   19.000000  390.955000   \n",
       "75%     94.100000    5.100400   24.000000  666.000000   20.200000  395.630000   \n",
       "max    100.000000   12.126500   24.000000  711.000000   22.000000  396.900000   \n",
       "\n",
       "            LSTAT  \n",
       "count  404.000000  \n",
       "mean    12.791609  \n",
       "std      7.235740  \n",
       "min      1.730000  \n",
       "25%      6.847500  \n",
       "50%     11.570000  \n",
       "75%     17.102500  \n",
       "max     36.980000  "
      ]
     },
     "execution_count": 43,
     "metadata": {},
     "output_type": "execute_result"
    }
   ],
   "source": [
    "housing_tr.describe()"
   ]
  },
  {
   "cell_type": "code",
   "execution_count": 44,
   "metadata": {},
   "outputs": [],
   "source": [
    "from sklearn.pipeline import Pipeline\n",
    "from sklearn.preprocessing import StandardScaler\n",
    "my_pipeline = Pipeline([\n",
    "    ('imputer', SimpleImputer(strategy=\"median\")),\n",
    "    #     ..... add as many as you want in your pipeline\n",
    "    ('std_scaler', StandardScaler()),\n",
    "])\n"
   ]
  },
  {
   "cell_type": "code",
   "execution_count": 45,
   "metadata": {},
   "outputs": [],
   "source": [
    "housing_num_tr = my_pipeline.fit_transform(housing)"
   ]
  },
  {
   "cell_type": "code",
   "execution_count": 46,
   "metadata": {},
   "outputs": [
    {
     "data": {
      "text/plain": [
       "(404, 13)"
      ]
     },
     "execution_count": 46,
     "metadata": {},
     "output_type": "execute_result"
    }
   ],
   "source": [
    "housing_num_tr.shape"
   ]
  },
  {
   "cell_type": "code",
   "execution_count": 47,
   "metadata": {},
   "outputs": [
    {
     "name": "stderr",
     "output_type": "stream",
     "text": [
      "C:\\Users\\Swetha\\Anaconda3\\lib\\site-packages\\sklearn\\ensemble\\forest.py:245: FutureWarning: The default value of n_estimators will change from 10 in version 0.20 to 100 in 0.22.\n",
      "  \"10 in version 0.20 to 100 in 0.22.\", FutureWarning)\n"
     ]
    },
    {
     "data": {
      "text/plain": [
       "RandomForestRegressor(bootstrap=True, criterion='mse', max_depth=None,\n",
       "                      max_features='auto', max_leaf_nodes=None,\n",
       "                      min_impurity_decrease=0.0, min_impurity_split=None,\n",
       "                      min_samples_leaf=1, min_samples_split=2,\n",
       "                      min_weight_fraction_leaf=0.0, n_estimators=10,\n",
       "                      n_jobs=None, oob_score=False, random_state=None,\n",
       "                      verbose=0, warm_start=False)"
      ]
     },
     "execution_count": 47,
     "metadata": {},
     "output_type": "execute_result"
    }
   ],
   "source": [
    "from sklearn.linear_model import LinearRegression\n",
    "from sklearn.tree import DecisionTreeRegressor\n",
    "from sklearn.ensemble import RandomForestRegressor\n",
    "# model = LinearRegression()\n",
    "# model = DecisionTreeRegressor()\n",
    "model = RandomForestRegressor()\n",
    "model.fit(housing_num_tr, housing_labels)"
   ]
  },
  {
   "cell_type": "code",
   "execution_count": 48,
   "metadata": {},
   "outputs": [],
   "source": [
    "some_data = housing.iloc[:5]"
   ]
  },
  {
   "cell_type": "code",
   "execution_count": 49,
   "metadata": {},
   "outputs": [],
   "source": [
    "some_labels = housing_labels.iloc[:5]"
   ]
  },
  {
   "cell_type": "code",
   "execution_count": 50,
   "metadata": {},
   "outputs": [],
   "source": [
    "prepared_data = my_pipeline.transform(some_data)"
   ]
  },
  {
   "cell_type": "code",
   "execution_count": 51,
   "metadata": {},
   "outputs": [
    {
     "data": {
      "text/plain": [
       "array([22.64, 24.85, 16.66, 23.42, 23.36])"
      ]
     },
     "execution_count": 51,
     "metadata": {},
     "output_type": "execute_result"
    }
   ],
   "source": [
    "model.predict(prepared_data)"
   ]
  },
  {
   "cell_type": "code",
   "execution_count": 52,
   "metadata": {},
   "outputs": [
    {
     "data": {
      "text/plain": [
       "[21.9, 24.5, 16.7, 23.1, 23.0]"
      ]
     },
     "execution_count": 52,
     "metadata": {},
     "output_type": "execute_result"
    }
   ],
   "source": [
    "list(some_labels)"
   ]
  },
  {
   "cell_type": "code",
   "execution_count": 53,
   "metadata": {},
   "outputs": [],
   "source": [
    "from sklearn.metrics import mean_squared_error\n",
    "housing_predictions = model.predict(housing_num_tr)\n",
    "mse = mean_squared_error(housing_labels, housing_predictions)\n",
    "rmse = np.sqrt(mse)"
   ]
  },
  {
   "cell_type": "code",
   "execution_count": 54,
   "metadata": {},
   "outputs": [
    {
     "data": {
      "text/plain": [
       "1.4205893178188376"
      ]
     },
     "execution_count": 54,
     "metadata": {},
     "output_type": "execute_result"
    }
   ],
   "source": [
    "rmse"
   ]
  },
  {
   "cell_type": "code",
   "execution_count": 55,
   "metadata": {},
   "outputs": [],
   "source": [
    "from sklearn.model_selection import cross_val_score\n",
    "scores = cross_val_score(model, housing_num_tr, housing_labels, scoring=\"neg_mean_squared_error\", cv=10)\n",
    "rmse_scores = np.sqrt(-scores)"
   ]
  },
  {
   "cell_type": "code",
   "execution_count": 56,
   "metadata": {},
   "outputs": [
    {
     "data": {
      "text/plain": [
       "array([2.89287729, 3.15128545, 4.47524901, 2.6828725 , 3.62006284,\n",
       "       2.75117339, 4.30858155, 3.63617209, 2.27989199, 3.31432346])"
      ]
     },
     "execution_count": 56,
     "metadata": {},
     "output_type": "execute_result"
    }
   ],
   "source": [
    "rmse_scores"
   ]
  },
  {
   "cell_type": "code",
   "execution_count": 57,
   "metadata": {},
   "outputs": [],
   "source": [
    "def print_scores(scores):\n",
    "    print(\"Scores:\", scores)\n",
    "    print(\"Mean: \", scores.mean())\n",
    "    print(\"Standard deviation: \", scores.std())"
   ]
  },
  {
   "cell_type": "code",
   "execution_count": 58,
   "metadata": {},
   "outputs": [
    {
     "name": "stdout",
     "output_type": "stream",
     "text": [
      "Scores: [2.89287729 3.15128545 4.47524901 2.6828725  3.62006284 2.75117339\n",
      " 4.30858155 3.63617209 2.27989199 3.31432346]\n",
      "Mean:  3.3112489585558746\n",
      "Standard deviation:  0.6725608452476189\n"
     ]
    }
   ],
   "source": [
    "print_scores(rmse_scores)"
   ]
  },
  {
   "cell_type": "code",
   "execution_count": 59,
   "metadata": {},
   "outputs": [],
   "source": [
    "X_test = strat_test_set.drop(\"MEDV\", axis=1)\n",
    "Y_test = strat_test_set[\"MEDV\"].copy()\n",
    "X_test_prepared = my_pipeline.transform(X_test)\n",
    "final_predictions = model.predict(X_test_prepared)\n",
    "final_mse = mean_squared_error(Y_test, final_predictions)\n",
    "final_rmse = np.sqrt(final_mse)\n",
    "# print(final_predictions, list(Y_test))"
   ]
  },
  {
   "cell_type": "code",
   "execution_count": 60,
   "metadata": {},
   "outputs": [
    {
     "data": {
      "text/plain": [
       "3.2539366806329566"
      ]
     },
     "execution_count": 60,
     "metadata": {},
     "output_type": "execute_result"
    }
   ],
   "source": [
    "final_rmse"
   ]
  },
  {
   "cell_type": "code",
   "execution_count": 61,
   "metadata": {},
   "outputs": [
    {
     "data": {
      "text/plain": [
       "array([-0.43942006,  3.12628155, -1.12165014, -0.27288841, -1.42262747,\n",
       "       -0.23977523, -1.31238772,  2.61111401, -1.0016859 , -0.5778192 ,\n",
       "       -0.97491834,  0.41164221, -0.86091034])"
      ]
     },
     "execution_count": 61,
     "metadata": {},
     "output_type": "execute_result"
    }
   ],
   "source": [
    "prepared_data[0]"
   ]
  },
  {
   "cell_type": "code",
   "execution_count": 62,
   "metadata": {},
   "outputs": [],
   "source": [
    "# housing = pd.read_csv(r'C:\\Users\\Swetha\\Desktop\\dataset.csv')\n",
    "\n",
    "# housing = housing[['RM','B', 'ZN', 'MEDV']]\n",
    "\n",
    "# array = housing.values\n",
    "# X = array[:,0:3]\n",
    "# Y = array[:,3]"
   ]
  },
  {
   "cell_type": "code",
   "execution_count": 63,
   "metadata": {},
   "outputs": [],
   "source": [
    "# features = ['RM', 'B', 'ZN']\n",
    "\n",
    "# target = housing['MEDV']\n",
    "\n",
    "\n",
    "\n",
    "# for i, col in enumerate(features):\n",
    "\n",
    "#     plt.subplot(1, len(features) , i+1)\n",
    "\n",
    "#     x = housing[col]\n",
    "\n",
    "#     y = target\n",
    "\n",
    "#     plt.scatter(x, y, marker='o')\n",
    "\n",
    "#     plt.title(col)\n",
    "\n",
    "#     plt.xlabel(col)\n",
    "\n",
    "#     plt.ylabel('MEDV')"
   ]
  },
  {
   "cell_type": "code",
   "execution_count": 64,
   "metadata": {},
   "outputs": [],
   "source": [
    "# X = pd.DataFrame(np.c_[housing['RM'], housing['B'],housing['ZN']], columns = ['RM','B','ZN'])\n",
    "\n",
    "# Y = housing['MEDV']"
   ]
  },
  {
   "cell_type": "code",
   "execution_count": 65,
   "metadata": {},
   "outputs": [],
   "source": [
    "# from sklearn.model_selection import train_test_split\n",
    "\n",
    "\n",
    "\n",
    "# X_train, X_test, Y_train, Y_test = train_test_split(X, Y, test_size = 0.2, random_state=5)\n",
    "\n",
    "# print(X_train.shape)\n",
    "\n",
    "# print(X_test.shape)\n",
    "\n",
    "# print(Y_train.shape)\n",
    "\n",
    "# print(Y_test.shape)"
   ]
  },
  {
   "cell_type": "code",
   "execution_count": 66,
   "metadata": {},
   "outputs": [],
   "source": [
    "# from sklearn.linear_model import LinearRegression\n",
    "\n",
    "# from sklearn.metrics import mean_squared_error\n",
    "\n",
    "\n",
    "\n",
    "# lin_model = LinearRegression()\n",
    "\n",
    "# lin_model.fit(X_train, Y_train)"
   ]
  },
  {
   "cell_type": "code",
   "execution_count": null,
   "metadata": {},
   "outputs": [],
   "source": []
  },
  {
   "cell_type": "code",
   "execution_count": null,
   "metadata": {},
   "outputs": [],
   "source": []
  }
 ],
 "metadata": {
  "kernelspec": {
   "display_name": "Python 3",
   "language": "python",
   "name": "python3"
  },
  "language_info": {
   "codemirror_mode": {
    "name": "ipython",
    "version": 3
   },
   "file_extension": ".py",
   "mimetype": "text/x-python",
   "name": "python",
   "nbconvert_exporter": "python",
   "pygments_lexer": "ipython3",
   "version": "3.7.3"
  }
 },
 "nbformat": 4,
 "nbformat_minor": 2
}
